#@title fashionCORE
#@markdown **Launch the interface fashionCORE (IDM-VTON fork)** | You need to connect with T4/A100/V100
#@markdown ****
#@markdown ****

print("[fashionCORE] Preparing ...")

theme = "dark" #@param ["dark", "light"]
preset = "deafult" #@param ["deafult", "realistic", "anime", "lcm", "sai", "turbo", "lighting"]
advenced_args = "--share --attention-split --always-high-vram --disable-offload-from-vram --all-in-fp16" #@param {type: "string"}

if preset != "deafult":
  args = f"{advenced_args} --theme {theme} --preset {preset}"
else:
  args = f"{advenced_args} --theme {theme}"

!pip install -q pygit2==1.12.2
%cd /content
!git clone https://github.com/akkefa/ateeb_eval.git
%cd /content/ateeb_eval
!pip install -q -r requirements_versions.txt

print("[fashionCORE] Starting ...")
!python entry_with_update.py $args
     
